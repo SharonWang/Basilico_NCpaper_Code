{
 "cells": [
  {
   "cell_type": "markdown",
   "metadata": {},
   "source": [
    "# Basilico Nature Communication Paper\n",
    "## Xiaonan Wang\n",
    "## 04Feb2020"
   ]
  },
  {
   "cell_type": "markdown",
   "metadata": {},
   "source": [
    "## Introduction"
   ]
  },
  {
   "cell_type": "markdown",
   "metadata": {},
   "source": [
    "This is to reproduce the ATACseq figure (Fig2E) used in the Basilico nature communication paper.\n",
    "\n",
    "### Samples\n",
    "There are 12 samples in total with 3 replicates for each condition of:\n",
    "1. d6 MLLENL\n",
    "2. d6 Parental\n",
    "3. d9 MLLENL\n",
    "4. d9 Parental\n",
    "\n",
    "### Peak calling \n",
    "Peaks were called using [Fseq](http://fureylab.web.unc.edu/software/fseq/). Peaks for each sample from 3 replicates were combined and merged using [bedtools](https://bedtools.readthedocs.io/en/latest/) and reads for each peak were counted using [HTSeq-count](https://htseq.readthedocs.io/en/release_0.11.1/count.html). The annotation for each peak was done using annoatePeaks.pl from [HOMER](http://homer.ucsd.edu/homer/download.html) package based on mm10 genome build.\n",
    "\n",
    "### Analysis\n",
    "The bglab R package can be downloaded from https://github.com/wjawaid/bglab. The saved R SCD objects included:\n",
    "1. ATACSeq_scd.rds: 82658 peaks and 12 samples\n",
    "\n",
    "The saved DESeq2 results included:\n",
    "1. DEres_d6_MLLENLvsCtr.rds\n",
    "2. DEres_d9_MLLENLvsCtr.rds"
   ]
  },
  {
   "cell_type": "markdown",
   "metadata": {},
   "source": [
    "## Analysis"
   ]
  },
  {
   "cell_type": "code",
   "execution_count": 5,
   "metadata": {},
   "outputs": [],
   "source": [
    "library(bglab);\n",
    "library(DESeq2)"
   ]
  },
  {
   "cell_type": "code",
   "execution_count": 11,
   "metadata": {},
   "outputs": [
    {
     "data": {
      "text/plain": [
       "R version 3.6.1 (2019-07-05)\n",
       "Platform: x86_64-pc-linux-gnu (64-bit)\n",
       "Running under: Debian GNU/Linux 8 (jessie)\n",
       "\n",
       "Matrix products: default\n",
       "BLAS:   /home/USSR/xw251/programs/R-3.6.1/lib/R/lib/libRblas.so\n",
       "LAPACK: /home/USSR/xw251/programs/R-3.6.1/lib/R/lib/libRlapack.so\n",
       "\n",
       "locale:\n",
       " [1] LC_CTYPE=en_GB.UTF-8       LC_NUMERIC=C              \n",
       " [3] LC_TIME=en_GB.UTF-8        LC_COLLATE=en_GB.UTF-8    \n",
       " [5] LC_MONETARY=en_GB.UTF-8    LC_MESSAGES=en_GB.UTF-8   \n",
       " [7] LC_PAPER=en_GB.UTF-8       LC_NAME=C                 \n",
       " [9] LC_ADDRESS=C               LC_TELEPHONE=C            \n",
       "[11] LC_MEASUREMENT=en_GB.UTF-8 LC_IDENTIFICATION=C       \n",
       "\n",
       "attached base packages:\n",
       "[1] stats4    parallel  stats     graphics  grDevices utils     datasets \n",
       "[8] methods   base     \n",
       "\n",
       "other attached packages:\n",
       " [1] DESeq2_1.26.0               SummarizedExperiment_1.16.1\n",
       " [3] DelayedArray_0.12.2         BiocParallel_1.20.1        \n",
       " [5] matrixStats_0.55.0          GenomicRanges_1.38.0       \n",
       " [7] GenomeInfoDb_1.22.0         IRanges_2.20.2             \n",
       " [9] S4Vectors_0.24.3            ggplot2_3.2.1              \n",
       "[11] bglab_1.1                   Biobase_2.46.0             \n",
       "[13] BiocGenerics_0.32.0         rgl_0.100.30               \n",
       "[15] igraph_1.2.4.2             \n",
       "\n",
       "loaded via a namespace (and not attached):\n",
       "  [1] TH.data_1.0-10          Rtsne_0.15              colorspace_1.4-1       \n",
       "  [4] rjson_0.2.20            modeltools_0.2-22       IRdisplay_0.7.0        \n",
       "  [7] htmlTable_1.13.3        XVector_0.26.0          base64enc_0.1-3        \n",
       " [10] rstudioapi_0.10         proxy_0.4-23            R.matlab_3.6.2         \n",
       " [13] bit64_0.9-7             RSpectra_0.16-0         AnnotationDbi_1.48.0   \n",
       " [16] mvtnorm_1.0-12          coin_1.3-1              codetools_0.2-16       \n",
       " [19] splines_3.6.1           R.methodsS3_1.7.1       libcoin_1.0-5          \n",
       " [22] geneplotter_1.64.0      knitr_1.27              IRkernel_1.1           \n",
       " [25] Formula_1.2-3           jsonlite_1.6            annotate_1.64.0        \n",
       " [28] cluster_2.1.0           png_0.1-7               R.oo_1.23.0            \n",
       " [31] shiny_1.4.0             compiler_3.6.1          httr_1.4.1             \n",
       " [34] backports_1.1.5         Matrix_1.2-17           fastmap_1.0.1          \n",
       " [37] lazyeval_0.2.2          later_1.0.0             acepack_1.4.1          \n",
       " [40] htmltools_0.4.0         tools_3.6.1             gtable_0.3.0           \n",
       " [43] GenomeInfoDbData_1.2.2  Rcpp_1.0.3              vctrs_0.2.2            \n",
       " [46] nlme_3.1-140            crosstalk_1.0.0         xfun_0.12              \n",
       " [49] stringr_1.4.0           mime_0.8                miniUI_0.1.1.1         \n",
       " [52] lifecycle_0.1.0         statmod_1.4.33          XML_3.99-0.3           \n",
       " [55] zlibbioc_1.32.0         MASS_7.3-51.4           zoo_1.8-7              \n",
       " [58] scales_1.1.0            promises_1.1.0          sandwich_2.5-1         \n",
       " [61] RColorBrewer_1.1-2      memoise_1.1.0           gridExtra_2.3          \n",
       " [64] rpart_4.1-15            latticeExtra_0.6-29     stringi_1.4.5          \n",
       " [67] RSQLite_2.2.0           genefilter_1.68.0       checkmate_1.9.4        \n",
       " [70] manipulateWidget_0.10.0 repr_1.1.0              rlang_0.4.4            \n",
       " [73] pkgconfig_2.0.3         bitops_1.0-6            evaluate_0.14          \n",
       " [76] lattice_0.20-38         htmlwidgets_1.5.1       bit_1.1-15.1           \n",
       " [79] magrittr_1.5            R6_2.4.1                Hmisc_4.3-0            \n",
       " [82] multcomp_1.4-12         pbdZMQ_0.3-3            DBI_1.1.0              \n",
       " [85] withr_2.1.2             mgcv_1.8-28             pillar_1.4.3           \n",
       " [88] foreign_0.8-71          survival_2.44-1.1       RCurl_1.98-1.1         \n",
       " [91] nnet_7.3-12             tibble_2.1.3            cba_0.2-21             \n",
       " [94] crayon_1.3.4            rARPACK_0.11-0          uuid_0.1-2             \n",
       " [97] jpeg_0.1-8.1            locfit_1.5-9.1          grid_3.6.1             \n",
       "[100] data.table_1.12.8       blob_1.2.1              digest_0.6.23          \n",
       "[103] webshot_0.5.2           xtable_1.8-4            httpuv_1.5.2           \n",
       "[106] R.utils_2.9.2           munsell_0.5.0          "
      ]
     },
     "metadata": {},
     "output_type": "display_data"
    }
   ],
   "source": [
    "sessionInfo()"
   ]
  },
  {
   "cell_type": "code",
   "execution_count": 6,
   "metadata": {},
   "outputs": [],
   "source": [
    "#######################################################################\n",
    "#### The code below should produce the SCD object required for further analysis\n",
    "#######################################################################\n",
    "\n",
    "# dir <- \"./ATACSeq_data/ATACSeq_HTseqcount/\"\n",
    "# files <- list.files(dir)\n",
    "\n",
    "# #### Read in count matrix generated from HTSeq-count\n",
    "# cnt_table <- do.call(\"cbind\",lapply(files, function(x){\n",
    "#   read.table(paste(dir, x, sep=\"\"), row.names=1)\n",
    "# }))\n",
    "# colnames(cnt_table) <- gsub(\"\\\\.txt\", \"\", files)\n",
    "# cnt_table1 <- cnt_table[grep(\"__\", rownames(cnt_table), invert=TRUE),]\n",
    "\n",
    "# #### Generate the metadata for samples\n",
    "# Day <- gsub(\".*_(.*\\\\d+)\\\\w.*\", \"\\\\1\", colnames(cnt_table))\n",
    "# Condition <- gsub(\".*_.*\\\\d+(\\\\w+)\\\\d.*\", \"\\\\1\", colnames(cnt_table))\n",
    "# Condition[grep(\"wt\", Condition)] <- \"WT\"\n",
    "# Rep <- gsub(\".*_.*(\\\\d).*\", \"\\\\1\", colnames(cnt_table))\n",
    "# colData <- data.frame(Day=as.factor(Day), Condition=as.factor(Condition), Replicate=as.factor(Rep))\n",
    "# colData$C1 <- as.factor(paste(colData$Day, colData$Condition, sep=\"_\"))\n",
    "# rownames(colData) <- colnames(cnt_table1)\n",
    "# colData$ID <- rownames(colData)\n",
    "\n",
    "# #### Read in the peak annotation data\n",
    "# anno <- read.delim(\"./ATACSeq_data/Cd48_all_merged_annotated.txt\")\n",
    "# anno$ID <- paste(\"peak_\", anno$PeakID..cmd.annotatePeaks.pl.Cd48_all_merged.bed.mm10., sep=\"\")\n",
    "# rownames(anno) <- anno$ID\n",
    "\n",
    "# geneT <- data.frame(ID=anno$ID, geneID = paste(anno$Gene.Name, anno$Annotation, sep=\"_\"), Gene.Description=anno$Gene.Description, Gene.Type=anno$Gene.Type, Gene.Name=anno$Gene.Name)\n",
    "# geneT$geneID <- gsub(\"\\\\(.*\\\\)\", \"\", geneT$geneID) \n",
    "\n",
    "# #### Create bglab SCD object for analysis\n",
    "# scd <- newSCD(\"RNAseq\", genoData = geneT, phenoData = colData,\n",
    "#                counts = as.matrix(cnt_table1), spike = NULL, qc = NULL)\n",
    "# scd <- performQC(scd)\n",
    "\n",
    "# #### Select for highly variable genes\n",
    "# scd <- techVar(scd, useERCC = FALSE, fdr=0.3) \n",
    "\n",
    "scd <- readRDS('./ATACSeq_data/ATACSeq_scd.rds')"
   ]
  },
  {
   "cell_type": "code",
   "execution_count": 9,
   "metadata": {},
   "outputs": [
    {
     "name": "stderr",
     "output_type": "stream",
     "text": [
      "Warning message in int_abline(a = a, b = b, h = h, v = v, untf = untf, ...):\n",
      "“semi-transparency is not supported on this device: reported only once per page”\n"
     ]
    },
    {
     "data": {
      "image/png": "[encoded data removed]",
      "text/plain": [
       "Plot with title “”"
      ]
     },
     "metadata": {
      "image/png": {
       "height": 420,
       "width": 420
      },
      "text/plain": {
       "height": 420,
       "width": 420
      }
     },
     "output_type": "display_data"
    }
   ],
   "source": [
    "#### Perform DESeq2 analysis\n",
    "## D6 MLLENL vs Parental\n",
    "# g1 <- as.character(pData(scd)$ID)[pData(scd)$C1==\"d6_MLLENL\"]\n",
    "# g2 <- as.character(pData(scd)$ID)[pData(scd)$C1==\"d6_Ctr\"]\n",
    "# print(length(g1))\n",
    "# print(length(g2))\n",
    "# d6_MLLENLvsCtr <- doDESeq(scd, group1=g1, group2=g2, fdr=0.1)\n",
    "# d6_MLLENLvsCtr$DESeq$GN <- geneID2Name(scd, rownames(d6_MLLENLvsCtr$DESeq))\n",
    "\n",
    "d6_MLLENLvsCtr <- readRDS('./ATACSeq_data/DEres_d6_MLLENLvsCtr.rds')\n",
    "plotMA(d6_MLLENLvsCtr$DESeq)\n",
    "abline(h=0, col=\"red\", lwd=2)"
   ]
  },
  {
   "cell_type": "code",
   "execution_count": 10,
   "metadata": {},
   "outputs": [
    {
     "name": "stderr",
     "output_type": "stream",
     "text": [
      "Warning message in int_abline(a = a, b = b, h = h, v = v, untf = untf, ...):\n",
      "“semi-transparency is not supported on this device: reported only once per page”\n"
     ]
    },
    {
     "data": {
      "image/png": "[encoded data removed]",
      "text/plain": [
       "Plot with title “”"
      ]
     },
     "metadata": {
      "image/png": {
       "height": 420,
       "width": 420
      },
      "text/plain": {
       "height": 420,
       "width": 420
      }
     },
     "output_type": "display_data"
    }
   ],
   "source": [
    "## D9 MLLENL vs Parental\n",
    "# g1 <- as.character(pData(scd)$ID)[pData(scd)$C1==\"d9_MLLENL\"]\n",
    "# g2 <- as.character(pData(scd)$ID)[pData(scd)$C1==\"d9_Ctr\"]\n",
    "# print(length(g1))\n",
    "# print(length(g2))\n",
    "# d9_MLLENLvsCtr <- doDESeq(scd, group1=g1, group2=g2, fdr=0.1)\n",
    "# d9_MLLENLvsCtr$DESeq$GN <- geneID2Name(scd, rownames(d9_MLLENLvsCtr$DESeq))\n",
    "\n",
    "d9_MLLENLvsCtr <- readRDS('./ATACSeq_data/DEres_d9_MLLENLvsCtr.rds')\n",
    "plotMA(d9_MLLENLvsCtr$DESeq)\n",
    "abline(h=0, col=\"red\", lwd=2)"
   ]
  },
  {
   "cell_type": "code",
   "execution_count": null,
   "metadata": {},
   "outputs": [],
   "source": []
  },
  {
   "cell_type": "code",
   "execution_count": null,
   "metadata": {},
   "outputs": [],
   "source": []
  },
  {
   "cell_type": "code",
   "execution_count": null,
   "metadata": {},
   "outputs": [],
   "source": []
  }
 ],
 "metadata": {
  "kernelspec": {
   "display_name": "R 3.6.1",
   "language": "R",
   "name": "ir361"
  },
  "language_info": {
   "codemirror_mode": "r",
   "file_extension": ".r",
   "mimetype": "text/x-r-source",
   "name": "R",
   "pygments_lexer": "r",
   "version": "3.6.1"
  }
 },
 "nbformat": 4,
 "nbformat_minor": 4
}
